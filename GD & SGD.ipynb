{
  "nbformat": 4,
  "nbformat_minor": 0,
  "metadata": {
    "colab": {
      "provenance": []
    },
    "kernelspec": {
      "name": "python3",
      "display_name": "Python 3"
    },
    "language_info": {
      "name": "python"
    }
  },
  "cells": [
    {
      "cell_type": "markdown",
      "source": [
        "# **Gradient Descent**\n",
        "\n"
      ],
      "metadata": {
        "id": "5IpXr3r_O1XH"
      }
    },
    {
      "cell_type": "code",
      "execution_count": null,
      "metadata": {
        "id": "BacBtsSgOzv_"
      },
      "outputs": [],
      "source": [
        "import pandas as pd\n",
        "import numpy as np\n",
        "from math import exp, log, floor\n",
        "import matplotlib.pyplot as plt\n",
        "df = pd.read_csv('train.csv')\n",
        "df = df.drop(df[(df.label != 2) & (df.label != 7)].index)\n",
        "df.loc[df['label'] == 2, 'label'] = -1\n",
        "df.loc[df['label'] == 7, 'label'] = 1\n",
        "df = df.set_index('label')\n",
        "max = (df.max()).max()\n",
        "df = df/max\n",
        "Y = df.index\n",
        "X = df.values\n",
        "[n,L] = X.shape\n",
        "Y_test = np.array(Y[0:floor(0.1*n)])\n",
        "Y_train = np.array(Y[floor(0.1*n):])\n",
        "X_test = X[0:floor(0.1*n),:]\n",
        "X_train = X[floor(0.1*n):,:]"
      ]
    },
    {
      "cell_type": "markdown",
      "source": [
        "# **Train Data**\n",
        "**eta1 = 0.1**"
      ],
      "metadata": {
        "id": "6MLXBoMC7_XK"
      }
    },
    {
      "cell_type": "code",
      "source": [
        "## Train Data:\n",
        "n_train = n - floor(0.1*n)\n",
        "eta1 = 1\n",
        "[b_train1, w_train1, J1] = J_list(n_train,L,eta1,X_train,Y_train)"
      ],
      "metadata": {
        "id": "EQx-zN8dwbN_"
      },
      "execution_count": null,
      "outputs": []
    },
    {
      "cell_type": "markdown",
      "source": [
        "**eta2 = 0.01**"
      ],
      "metadata": {
        "id": "e80t3b8Y8D42"
      }
    },
    {
      "cell_type": "code",
      "source": [
        "eta2 = 0.1\n",
        "[b_train2, w_train2, J2] = J_list(n_train,L,eta2,X_train,Y_train)"
      ],
      "metadata": {
        "id": "SchmYkMd7baZ"
      },
      "execution_count": null,
      "outputs": []
    },
    {
      "cell_type": "markdown",
      "source": [
        "**eta3 = 0.001**"
      ],
      "metadata": {
        "id": "3X5G4fqL8Vwy"
      }
    },
    {
      "cell_type": "code",
      "source": [
        "eta3 = 0.01\n",
        "[b_train3, w_train3, J3] = J_list(n_train,L,eta3,X_train,Y_train)"
      ],
      "metadata": {
        "id": "--381yXk8dSG"
      },
      "execution_count": null,
      "outputs": []
    },
    {
      "cell_type": "code",
      "source": [
        "itr = 200\n",
        "Itr = list(range(itr+1))\n",
        "plt.plot(Itr,J1,color = 'red')\n",
        "plt.plot(Itr,J2,color = 'blue')\n",
        "plt.plot(Itr,J3,color = 'green')\n",
        "plt.legend(['eta = 1','eta = 0.1','eta = 0.01'])\n",
        "plt.title(\"Graph of Train Data\")\n",
        "plt.show()"
      ],
      "metadata": {
        "id": "va3sIDSv3aRz",
        "colab": {
          "base_uri": "https://localhost:8080/",
          "height": 281
        },
        "outputId": "5c9b554d-9ae6-453a-b207-143d994a5064"
      },
      "execution_count": null,
      "outputs": [
        {
          "output_type": "display_data",
          "data": {
            "text/plain": [
              "<Figure size 432x288 with 1 Axes>"
            ],
            "image/png": "[encoded data removed]"
          },
          "metadata": {
            "needs_background": "light"
          }
        }
      ]
    },
    {
      "cell_type": "markdown",
      "source": [
        "# **Test Data**\n",
        "**eta1 = 0.1**"
      ],
      "metadata": {
        "id": "kYqk_upQ9eRT"
      }
    },
    {
      "cell_type": "code",
      "source": [
        "n_test = n - n_train\n",
        "## for eta1:\n",
        "[b_test1, w_test1, J1] = J_list(n_test,L,eta1,X_test,Y_test)\n",
        "## for eta2:\n",
        "[b_test2, w_test2, J2] = J_list(n_test,L,eta2,X_test,Y_test)\n",
        "## for eta3:\n",
        "[b_test3, w_test3, J3] = J_list(n_test,L,eta3,X_test,Y_test)"
      ],
      "metadata": {
        "id": "sRlsmrZHH0ee"
      },
      "execution_count": null,
      "outputs": []
    },
    {
      "cell_type": "code",
      "source": [
        "itr = 200\n",
        "Itr = list(range(itr+1))\n",
        "plt.plot(Itr,J1,color = 'red')\n",
        "plt.plot(Itr,J2,color = 'blue')\n",
        "plt.plot(Itr,J3,color = 'green')\n",
        "plt.legend(['eta = 1','eta = 0.1','eta = 0.01'])\n",
        "plt.title(\"Graph of Test Data\")\n",
        "plt.show()"
      ],
      "metadata": {
        "colab": {
          "base_uri": "https://localhost:8080/",
          "height": 281
        },
        "id": "U-G7Rj7IJOwD",
        "outputId": "bdd5b197-cf70-414a-ba9a-2db2e0560175"
      },
      "execution_count": null,
      "outputs": [
        {
          "output_type": "display_data",
          "data": {
            "text/plain": [
              "<Figure size 432x288 with 1 Axes>"
            ],
            "image/png": "[encoded data removed]"
          },
          "metadata": {
            "needs_background": "light"
          }
        }
      ]
    },
    {
      "cell_type": "markdown",
      "source": [
        "**Functions**"
      ],
      "metadata": {
        "id": "S2rBwhEmHqju"
      }
    },
    {
      "cell_type": "code",
      "source": [
        "def J_func(Y,X,b,w):\n",
        "  n = len(Y)\n",
        "  S = 0\n",
        "  for i in range(n):\n",
        "      yi = Y[i]\n",
        "      xi = X[i,:]\n",
        "      S += np.log(1 + np.exp(-yi*(b+np.dot(xi,w))))\n",
        "  J = 1/n*S\n",
        "  return(J)\n",
        "\n",
        "def Gradw_J(Y,X,b,w):\n",
        "  n = len(Y)\n",
        "  S = 0\n",
        "  for i in range(n):\n",
        "    yi = Y[i]\n",
        "    xi = X[i,:]\n",
        "    mu = 1/(1 + np.exp(-yi*(b+np.dot(xi,w))))\n",
        "    S -= yi*xi.T*(1-mu)\n",
        "  grad_J = 1/n*S\n",
        "  return(grad_J)\n",
        "\n",
        "def Gradb_J(Y,X,b,w):\n",
        "  n = len(Y)\n",
        "  S = 0\n",
        "  for i in range(n):\n",
        "    yi = Y[i]\n",
        "    xi = X[i,:]\n",
        "    mu = 1/(1 + np.exp(-yi*(b+np.dot(xi,w))))\n",
        "    S -= yi*(1-mu)\n",
        "  grad_J = 1/n*S\n",
        "  return(grad_J)\n",
        "\n",
        "def J_list(n,L,eta,X,Y):\n",
        "  b = 0\n",
        "  w = np.zeros(L)\n",
        "  j = J_func(Y,X,b,w)\n",
        "  J = [j]\n",
        "\n",
        "  itr = 200\n",
        "  for k in range(itr):\n",
        "      ## Updating w and b:    \n",
        "      w = w - eta*Gradw_J(Y,X,b,w)\n",
        "      b = b - eta*Gradb_J(Y,X,b,w)\n",
        "      j = J_func(Y,X,b,w)\n",
        "      J.append(j)\n",
        "  return b,w,J\n",
        "\n",
        "def Accuracy(X,Y,eta,b,w,Type):\n",
        "  n = len(Y)\n",
        "  valid = 0   ## For counting the number of correctly detected data\n",
        "  for i in range(n):\n",
        "    xi = X[i,:]\n",
        "    yi = Y[i]\n",
        "    sign = np.sign(b+np.dot(xi.T,w))\n",
        "    if (sign == 1 & yi == 1) | (sign == -1 & yi == -1):\n",
        "      valid += 1\n",
        "\n",
        "  Accuracy = valid/n*100\n",
        "  print(\"The accuracy of {} data for eta = {} is: {}\".format(Type,eta,Accuracy))"
      ],
      "metadata": {
        "id": "WfJNF1-wyPI7"
      },
      "execution_count": null,
      "outputs": []
    },
    {
      "cell_type": "markdown",
      "source": [
        "# **Accuracy**\n",
        "# **Train Data:**\n",
        "**eta1 = 0.1**"
      ],
      "metadata": {
        "id": "0XQznheNJs1d"
      }
    },
    {
      "cell_type": "code",
      "source": [
        "## for eta1:\n",
        "Accuracy(X_train,Y_train,eta1,b_train1,w_train1,'train')\n",
        "## for eta2:\n",
        "Accuracy(X_train,Y_train,eta2,b_train2,w_train2,'train')\n",
        "## for eta3:\n",
        "Accuracy(X_train,Y_train,eta3,b_train3,w_train3,'train')"
      ],
      "metadata": {
        "colab": {
          "base_uri": "https://localhost:8080/"
        },
        "id": "uxEEIS9rJyOq",
        "outputId": "5f386782-332f-4ccf-afa8-b8fece320dfa"
      },
      "execution_count": null,
      "outputs": [
        {
          "output_type": "stream",
          "name": "stdout",
          "text": [
            "The accuracy of train data for eta = 1 is: 99.35241549022147\n",
            "The accuracy of train data for eta = 0.1 is: 98.91205802357209\n",
            "The accuracy of train data for eta = 0.01 is: 98.36808703535812\n"
          ]
        }
      ]
    },
    {
      "cell_type": "markdown",
      "source": [
        "# **Test Data:**"
      ],
      "metadata": {
        "id": "nXZIFI2vN0w5"
      }
    },
    {
      "cell_type": "code",
      "source": [
        "## for eta1:\n",
        "Accuracy(X_test,Y_test,eta1,b_test1,w_test1,'test')\n",
        "## for eta2:\n",
        "Accuracy(X_test,Y_test,eta2,b_test2,w_test2,'test')\n",
        "## for eta3:\n",
        "Accuracy(X_test,Y_test,eta3,b_test3,w_test3,'test')"
      ],
      "metadata": {
        "colab": {
          "base_uri": "https://localhost:8080/"
        },
        "id": "Lx-t97QCN2cK",
        "outputId": "bdcd701e-af5a-404b-d77d-650b8a9eec8f"
      },
      "execution_count": null,
      "outputs": [
        {
          "output_type": "stream",
          "name": "stdout",
          "text": [
            "The accuracy of test data for eta = 1 is: 100.0\n",
            "The accuracy of test data for eta = 0.1 is: 99.18319719953325\n",
            "The accuracy of test data for eta = 0.01 is: 98.13302217036173\n"
          ]
        }
      ]
    },
    {
      "cell_type": "markdown",
      "source": [
        "# **Stochastic Gradient Descent**\n",
        "### **Updating with one sample**\n",
        "**Train Data:**"
      ],
      "metadata": {
        "id": "3yZcklWDeJFZ"
      }
    },
    {
      "cell_type": "code",
      "source": [
        "## for eta1:\n",
        "[b_train1, w_train1, J1] = J_list1(n_train,L,eta1,X_train,Y_train)\n",
        "## for eta2:\n",
        "[b_train2, w_train2, J2] = J_list1(n_train,L,eta2,X_train,Y_train)\n",
        "## for eta3:\n",
        "[b_train3, w_train3, J3] = J_list1(n_train,L,eta3,X_train,Y_train)\n",
        "\n",
        "## Plotting:\n",
        "itr = 200\n",
        "Itr = list(range(itr+1))\n",
        "plt.plot(Itr,J1,color = 'red')\n",
        "plt.plot(Itr,J2,color = 'blue')\n",
        "plt.plot(Itr,J3,color = 'green')\n",
        "plt.legend(['eta = 1','eta = 0.1','eta = 0.01'])\n",
        "plt.title(\"Graph of Train Data (Updating with one sample)\")\n",
        "plt.show()"
      ],
      "metadata": {
        "colab": {
          "base_uri": "https://localhost:8080/",
          "height": 281
        },
        "id": "w3DYFU95PDg6",
        "outputId": "1b8512f7-15d5-4001-9395-aa3cb7ce59bd"
      },
      "execution_count": null,
      "outputs": [
        {
          "output_type": "display_data",
          "data": {
            "text/plain": [
              "<Figure size 432x288 with 1 Axes>"
            ],
            "image/png": "[encoded data removed]"
          },
          "metadata": {
            "needs_background": "light"
          }
        }
      ]
    },
    {
      "cell_type": "markdown",
      "source": [
        "\n",
        "**Train Data:**"
      ],
      "metadata": {
        "id": "glZj9RK7ao1a"
      }
    },
    {
      "cell_type": "code",
      "source": [
        "## for eta1:\n",
        "Accuracy(X_train,Y_train,eta1,b_train1,w_train1,'train')\n",
        "## for eta2:\n",
        "Accuracy(X_train,Y_train,eta2,b_train2,w_train2,'train')\n",
        "## for eta3:\n",
        "Accuracy(X_train,Y_train,eta3,b_train3,w_train3,'train')"
      ],
      "metadata": {
        "colab": {
          "base_uri": "https://localhost:8080/"
        },
        "id": "dNvsLThWaqZW",
        "outputId": "0645d322-ed4d-42c9-b118-84bc854b7c54"
      },
      "execution_count": null,
      "outputs": [
        {
          "output_type": "stream",
          "name": "stdout",
          "text": [
            "The accuracy of train data for eta = 1 is: 99.08042999611449\n",
            "The accuracy of train data for eta = 0.1 is: 98.74368605102966\n",
            "The accuracy of train data for eta = 0.01 is: 98.8084445020075\n"
          ]
        }
      ]
    },
    {
      "cell_type": "markdown",
      "source": [
        "\n",
        "**Test Data:**"
      ],
      "metadata": {
        "id": "dE9CQhQXZSCJ"
      }
    },
    {
      "cell_type": "code",
      "source": [
        "## for eta1:\n",
        "[b_test1, w_test1, J1] = J_list1(n_test,L,eta1,X_test,Y_test)\n",
        "## for eta2:\n",
        "[b_test2, w_test2, J2] = J_list1(n_test,L,eta2,X_test,Y_test)\n",
        "## for eta3:\n",
        "[b_test3, w_test3, J3] = J_list1(n_test,L,eta3,X_test,Y_test)\n",
        "\n",
        "## Plotting:\n",
        "itr = 200\n",
        "Itr = list(range(itr+1))\n",
        "plt.plot(Itr,J1,color = 'red')\n",
        "plt.plot(Itr,J2,color = 'blue')\n",
        "plt.plot(Itr,J3,color = 'green')\n",
        "plt.legend(['eta = 1','eta = 0.1','eta = 0.01'])\n",
        "plt.title(\"Graph of Test Data (Updating with one sample)\")\n",
        "plt.show()"
      ],
      "metadata": {
        "id": "iihwfBkXZYOG",
        "colab": {
          "base_uri": "https://localhost:8080/",
          "height": 281
        },
        "outputId": "f8052c4b-e8f3-457e-8945-bccb88d982c2"
      },
      "execution_count": null,
      "outputs": [
        {
          "output_type": "display_data",
          "data": {
            "text/plain": [
              "<Figure size 432x288 with 1 Axes>"
            ],
            "image/png": "[encoded data removed]"
          },
          "metadata": {
            "needs_background": "light"
          }
        }
      ]
    },
    {
      "cell_type": "markdown",
      "source": [
        "\n",
        "**Test Data:**"
      ],
      "metadata": {
        "id": "2c5VNDZBZcLd"
      }
    },
    {
      "cell_type": "code",
      "source": [
        "## for eta1:\n",
        "Accuracy(X_test,Y_test,eta1,b_test1,w_test1,'test')\n",
        "## for eta2:\n",
        "Accuracy(X_test,Y_test,eta2,b_test2,w_test2,'test')\n",
        "## for eta3:\n",
        "Accuracy(X_test,Y_test,eta3,b_test3,w_test3,'test')"
      ],
      "metadata": {
        "id": "1eh9Rrlxa_j7",
        "colab": {
          "base_uri": "https://localhost:8080/"
        },
        "outputId": "2af3f944-3cdd-4e94-df7c-911965953b6b"
      },
      "execution_count": null,
      "outputs": [
        {
          "output_type": "stream",
          "name": "stdout",
          "text": [
            "The accuracy of test data for eta = 1 is: 99.41656942823805\n",
            "The accuracy of test data for eta = 0.1 is: 98.71645274212368\n",
            "The accuracy of test data for eta = 0.01 is: 96.26604434072345\n"
          ]
        }
      ]
    },
    {
      "cell_type": "markdown",
      "source": [
        "**Functions:**"
      ],
      "metadata": {
        "id": "wgbIGmYIPfkE"
      }
    },
    {
      "cell_type": "code",
      "source": [
        "from random import randint\n",
        "from random import sample\n",
        "\n",
        "def J_func(Y,X,b,w):\n",
        "  n = len(Y)\n",
        "  S = 0\n",
        "  for i in range(n):\n",
        "      yi = Y[i]\n",
        "      xi = X[i,:]\n",
        "      S += np.log(1 + np.exp(-yi*(b+np.dot(xi,w))))\n",
        "  J = 1/n*S\n",
        "  return(J)\n",
        "\n",
        "def J_func(Y,X,b,w):\n",
        "  n = len(Y)\n",
        "  S = 0\n",
        "  for i in range(n):\n",
        "      yi = Y[i]\n",
        "      xi = X[i,:]\n",
        "      S += np.log(1 + np.exp(-yi*(b+np.dot(xi,w))))\n",
        "  J = 1/n*S\n",
        "  return(J)\n",
        "\n",
        "def Gradw_J1(Y,X,b,w):\n",
        "  n = 1\n",
        "  S = 0\n",
        "  for i in range(n):\n",
        "    yi = Y\n",
        "    xi = X\n",
        "    mu = 1/(1 + np.exp(-yi*(b+np.dot(xi,w))))\n",
        "    S -= yi*xi.T*(1-mu)\n",
        "  grad_J = 1/n*S\n",
        "  return(grad_J)\n",
        "\n",
        "def Gradb_J1(Y,X,b,w):\n",
        "  n = 1\n",
        "  S = 0\n",
        "  for i in range(n):\n",
        "    yi = Y\n",
        "    xi = X\n",
        "    mu = 1/(1 + np.exp(-yi*(b+np.dot(xi,w))))\n",
        "    S -= yi*(1-mu)\n",
        "  grad_J = 1/n*S\n",
        "  return(grad_J)\n",
        "\n",
        "def J_list1(n,L,eta,X,Y):\n",
        "  b = 0\n",
        "  w = np.zeros(L)\n",
        "  j = J_func(Y,X,b,w)\n",
        "  J = [j]\n",
        "\n",
        "  itr = 200\n",
        "  \n",
        "  for k in range(itr):\n",
        "    ind = randint(0,n-1)\n",
        "    X1 = X[ind,:]\n",
        "    Y1 = Y[ind]\n",
        "    ## Updating w and b:    \n",
        "    w = w - eta*Gradw_J1(Y1,X1,b,w)\n",
        "    b = b - eta*Gradb_J1(Y1,X1,b,w)\n",
        "    j = J_func(Y,X,b,w)\n",
        "    J.append(j)\n",
        "  return b,w,J"
      ],
      "metadata": {
        "id": "eKnsPhbJPd-f"
      },
      "execution_count": null,
      "outputs": []
    },
    {
      "cell_type": "markdown",
      "source": [
        "### **Updating with 100 samples**\n",
        "**Train Data:**"
      ],
      "metadata": {
        "id": "ou0NqA8xluIZ"
      }
    },
    {
      "cell_type": "code",
      "source": [
        "## for eta1:\n",
        "[b_train1, w_train1, J1] = J_list100(n_train,L,eta1,X_train,Y_train)\n",
        "## for eta2:\n",
        "[b_train2, w_train2, J2] = J_list100(n_train,L,eta2,X_train,Y_train)\n",
        "## for eta3:\n",
        "[b_train3, w_train3, J3] = J_list100(n_train,L,eta3,X_train,Y_train)\n",
        "\n",
        "## Plotting:\n",
        "itr = 200\n",
        "Itr = list(range(itr+1))\n",
        "plt.plot(Itr,J1,color = 'red')\n",
        "plt.plot(Itr,J2,color = 'blue')\n",
        "plt.plot(Itr,J3,color = 'green')\n",
        "plt.legend(['eta = 1','eta = 0.1','eta = 0.01'])\n",
        "plt.title(\"Graph of Train Data (Updating with 100 samples)\")\n",
        "plt.show()"
      ],
      "metadata": {
        "colab": {
          "base_uri": "https://localhost:8080/",
          "height": 281
        },
        "id": "cRYVJXiol3-j",
        "outputId": "580b10f8-f0ad-45d5-b956-3b027c7cdf31"
      },
      "execution_count": null,
      "outputs": [
        {
          "output_type": "display_data",
          "data": {
            "text/plain": [
              "<Figure size 432x288 with 1 Axes>"
            ],
            "image/png": "[encoded data removed]"
          },
          "metadata": {
            "needs_background": "light"
          }
        }
      ]
    },
    {
      "cell_type": "markdown",
      "source": [
        "\n",
        "**Train Data:**"
      ],
      "metadata": {
        "id": "zT9xX8b-pnva"
      }
    },
    {
      "cell_type": "code",
      "source": [
        "## for eta1:\n",
        "Accuracy(X_train,Y_train,eta1,b_train1,w_train1,'train')\n",
        "## for eta2:\n",
        "Accuracy(X_train,Y_train,eta2,b_train2,w_train2,'train')\n",
        "## for eta3:\n",
        "Accuracy(X_train,Y_train,eta3,b_train3,w_train3,'train')"
      ],
      "metadata": {
        "colab": {
          "base_uri": "https://localhost:8080/"
        },
        "id": "gOwS1gmJpqcO",
        "outputId": "239230eb-f711-4c4f-e99a-407914a258a7"
      },
      "execution_count": null,
      "outputs": [
        {
          "output_type": "stream",
          "name": "stdout",
          "text": [
            "The accuracy of train data for eta = 1 is: 99.61144929413288\n",
            "The accuracy of train data for eta = 0.1 is: 98.97681647454993\n",
            "The accuracy of train data for eta = 0.01 is: 98.35513534516255\n"
          ]
        }
      ]
    },
    {
      "cell_type": "markdown",
      "source": [
        "\n",
        "**Test Data:**"
      ],
      "metadata": {
        "id": "Zx173jsLp-xj"
      }
    },
    {
      "cell_type": "code",
      "source": [
        "## for eta1:\n",
        "print(n_test)\n",
        "[b_test1, w_test1, J1] = J_list100(n_test,L,eta1,X_test,Y_test)\n",
        "## for eta2:\n",
        "[b_test2, w_test2, J2] = J_list100(n_test,L,eta2,X_test,Y_test)\n",
        "## for eta3:\n",
        "[b_test3, w_test3, J3] = J_list100(n_test,L,eta3,X_test,Y_test)\n",
        "\n",
        "## Plotting:\n",
        "itr = 200\n",
        "Itr = list(range(itr+1))\n",
        "plt.plot(Itr,J1,color = 'red')\n",
        "plt.plot(Itr,J2,color = 'blue')\n",
        "plt.plot(Itr,J3,color = 'green')\n",
        "plt.legend(['eta = 1','eta = 0.1','eta = 0.01'])\n",
        "plt.title(\"Graph of Test Data (Updating with 100 samples)\")\n",
        "plt.show()"
      ],
      "metadata": {
        "colab": {
          "base_uri": "https://localhost:8080/",
          "height": 298
        },
        "id": "njwxbbhjp_kP",
        "outputId": "b2b653d4-385a-4a03-af44-f22df881e364"
      },
      "execution_count": null,
      "outputs": [
        {
          "output_type": "stream",
          "name": "stdout",
          "text": [
            "857\n"
          ]
        },
        {
          "output_type": "display_data",
          "data": {
            "text/plain": [
              "<Figure size 432x288 with 1 Axes>"
            ],
            "image/png": "[encoded data removed]"
          },
          "metadata": {
            "needs_background": "light"
          }
        }
      ]
    },
    {
      "cell_type": "markdown",
      "source": [
        "\n",
        "**Test Data:**"
      ],
      "metadata": {
        "id": "wDnChg4CqVwa"
      }
    },
    {
      "cell_type": "code",
      "source": [
        "## for eta1:\n",
        "Accuracy(X_test,Y_test,eta1,b_test1,w_test1,'test')\n",
        "## for eta2:\n",
        "Accuracy(X_test,Y_test,eta2,b_test2,w_test2,'test')\n",
        "## for eta3:\n",
        "Accuracy(X_test,Y_test,eta3,b_test3,w_test3,'test')"
      ],
      "metadata": {
        "colab": {
          "base_uri": "https://localhost:8080/"
        },
        "id": "DFdPw3CtqWzH",
        "outputId": "5efc7139-41f1-4d51-9c6a-5dc9fed99344"
      },
      "execution_count": null,
      "outputs": [
        {
          "output_type": "stream",
          "name": "stdout",
          "text": [
            "The accuracy of test data for eta = 1 is: 99.88331388564761\n",
            "The accuracy of test data for eta = 0.1 is: 98.94982497082847\n",
            "The accuracy of test data for eta = 0.01 is: 98.01633605600934\n"
          ]
        }
      ]
    },
    {
      "cell_type": "markdown",
      "source": [
        "**Functions:**"
      ],
      "metadata": {
        "id": "K7VyAdZbl-9V"
      }
    },
    {
      "cell_type": "code",
      "source": [
        "from random import sample\n",
        "def J_func(Y,X,b,w):\n",
        "  n = len(Y)\n",
        "  S = 0\n",
        "  for i in range(n):\n",
        "      yi = Y[i]\n",
        "      xi = X[i,:]\n",
        "      S += np.log(1 + np.exp(-yi*(b+np.dot(xi,w))))\n",
        "  J = 1/n*S\n",
        "  return(J)\n",
        "\n",
        "def Gradw_J100(Y,X,b,w):\n",
        "  n = len(Y)\n",
        "  S = 0\n",
        "  for i in range(n):\n",
        "    yi = Y[i]\n",
        "    xi = X[i,:]\n",
        "    mu = 1/(1 + np.exp(-yi*(b+np.dot(xi,w))))\n",
        "    S -= yi*xi.T*(1-mu)\n",
        "  grad_J = 1/n*S\n",
        "  return(grad_J)\n",
        "\n",
        "def Gradb_J100(Y,X,b,w):\n",
        "  n = len(Y)\n",
        "  S = 0\n",
        "  for i in range(n):\n",
        "    yi = Y[i]\n",
        "    xi = X[i,:]\n",
        "    mu = 1/(1 + np.exp(-yi*(b+np.dot(xi,w))))\n",
        "    S -= yi*(1-mu)\n",
        "  grad_J = 1/n*S\n",
        "  return(grad_J)\n",
        "\n",
        "def J_list100(n,L,eta,X,Y):\n",
        "  b = 0\n",
        "  w = np.zeros(L)\n",
        "  j = J_func(Y,X,b,w)\n",
        "  J = [j]\n",
        "\n",
        "  index_list = list(range(n-1))\n",
        "  itr = 200\n",
        "  for k in range(itr):\n",
        "    \n",
        "    ind = sample(index_list,100)\n",
        "    X100 = X[ind,:]\n",
        "    Y100 = Y[ind]\n",
        "    ## Updating w and b:    \n",
        "    w = w - eta*Gradw_J100(Y100,X100,b,w)\n",
        "    b = b - eta*Gradb_J100(Y100,X100,b,w)\n",
        "    j = J_func(Y,X,b,w)\n",
        "    J.append(j)\n",
        "  return b,w,J"
      ],
      "metadata": {
        "id": "_E6pOna0mB0P"
      },
      "execution_count": null,
      "outputs": []
    }
  ]
}